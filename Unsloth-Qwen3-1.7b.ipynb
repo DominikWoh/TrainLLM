# train_qwen3.py
from unsloth import FastLanguageModel, FastModel
from datasets import load_dataset
from trl import SFTTrainer, SFTConfig
import torch, os

# 1. Modell laden
model, tokenizer = FastModel.from_pretrained(
    model_name="unsloth/Qwen3-1.7B-unsloth-bnb-4bit",
    max_seq_length=2048,
    load_in_4bit=True,
    load_in_8bit=False,
    full_finetuning=False,
)

# 2. LoRA-Adapter
model = FastLanguageModel.get_peft_model(
    model,
    r=16,
    lora_alpha=32,
    target_modules=["q_proj", "k_proj", "v_proj", "o_proj",
                    "gate_proj", "up_proj", "down_proj"],
    lora_dropout=0,
    bias="none",
    use_gradient_checkpointing="unsloth",
    random_state=3407,
)

# 3. Dataset laden und ggf. konvertieren
dataset = load_dataset("json", data_files="train.json", split="train")

def format_alpaca(example):
    return {"text": f"{example['prompt']}\n{example['completion']}"}

dataset = dataset.map(format_alpaca)

# 4. Training
trainer = SFTTrainer(
    model=model,
    tokenizer=tokenizer,
    train_dataset=dataset,          # alle 5 k
    args=SFTConfig(
        per_device_train_batch_size=2,
        gradient_accumulation_steps=4,
        num_train_epochs=2,         # statt max_steps
        # oder: max_steps=625*2     # 2 Epochen
        learning_rate=2e-4,
        fp16=torch.cuda.is_bf16_supported() is False,
        bf16=torch.cuda.is_bf16_supported(),
        logging_steps=10,
        output_dir="qwen3-lora-full",
        optim="adamw_8bit",
    ),
)
trainer.train()

# 5. Speichern
trainer.save_model("qwen3-lora")
print("Fertig! Adapter liegt unter ./qwen3-lora")
